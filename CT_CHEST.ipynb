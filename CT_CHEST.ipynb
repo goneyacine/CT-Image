{
 "cells": [
  {
   "cell_type": "code",
   "execution_count": 112,
   "metadata": {},
   "outputs": [],
   "source": [
    "import cv2\n",
    "import numpy as np\n",
    "import os \n",
    "import tensorflow as tf\n",
    "import matplotlib.pyplot as plt\n",
    "import random"
   ]
  },
  {
   "cell_type": "code",
   "execution_count": 139,
   "metadata": {},
   "outputs": [],
   "source": [
    "labels = [\"normal\",\"adenocarcinoma\",\"large cell carcinoma\",\"squamous cell carcinoma\"]"
   ]
  },
  {
   "cell_type": "code",
   "execution_count": 140,
   "metadata": {},
   "outputs": [],
   "source": [
    "y_train = []\n",
    "x_train = []\n",
    "x_valid = []\n",
    "y_valid = []"
   ]
  },
  {
   "cell_type": "code",
   "execution_count": 141,
   "metadata": {},
   "outputs": [],
   "source": [
    "x_test = []\n",
    "y_test = []"
   ]
  },
  {
   "cell_type": "code",
   "execution_count": 142,
   "metadata": {},
   "outputs": [],
   "source": [
    "for file in os.listdir(\"D:\\\\Chest Canncer CT Dataset\\\\Data\\\\train\\\\normal\"):\n",
    "    img = cv2.imread(\"D:\\\\Chest Canncer CT Dataset\\\\Data\\\\train\\\\normal\\\\\"  + file)\n",
    "    img = cv2.resize(img,(192,192),interpolation=cv2.INTER_LINEAR)\n",
    "    img = cv2.normalize(img, None, 0, 1.0, cv2.NORM_MINMAX, dtype=cv2.CV_32F)\n",
    "    x_train.append(0)\n",
    "    y_train.append(img)\n",
    "\n",
    "for file in os.listdir(\"D:\\\\Chest Canncer CT Dataset\\\\Data\\\\train\\\\adenocarcinoma_left.lower.lobe_T2_N0_M0_Ib\"):\n",
    "    img = cv2.imread(\"D:\\\\Chest Canncer CT Dataset\\\\Data\\\\train\\\\adenocarcinoma_left.lower.lobe_T2_N0_M0_Ib\\\\\"  + file)\n",
    "    img = cv2.resize(img,(192,192),interpolation=cv2.INTER_LINEAR)\n",
    "    img = cv2.normalize(img, None, 0, 1.0, cv2.NORM_MINMAX, dtype=cv2.CV_32F)\n",
    "    x_train.append(1)\n",
    "    y_train.append(img)\n",
    "    \n",
    "for file in os.listdir(\"D:\\\\Chest Canncer CT Dataset\\\\Data\\\\train\\\\large.cell.carcinoma_left.hilum_T2_N2_M0_IIIa\"):\n",
    "    img = cv2.imread(\"D:\\\\Chest Canncer CT Dataset\\\\Data\\\\train\\\\large.cell.carcinoma_left.hilum_T2_N2_M0_IIIa\\\\\"  + file)\n",
    "    img = cv2.resize(img,(192,192),interpolation=cv2.INTER_LINEAR)\n",
    "    img = cv2.normalize(img, None, 0, 1.0, cv2.NORM_MINMAX, dtype=cv2.CV_32F)\n",
    "    x_train.append(2)\n",
    "    y_train.append(img)\n",
    "    \n",
    "for file in os.listdir(\"D:\\\\Chest Canncer CT Dataset\\\\Data\\\\train\\\\squamous.cell.carcinoma_left.hilum_T1_N2_M0_IIIa\"):\n",
    "    img = cv2.imread(\"D:\\\\Chest Canncer CT Dataset\\\\Data\\\\train\\\\squamous.cell.carcinoma_left.hilum_T1_N2_M0_IIIa\\\\\"  + file)\n",
    "    img = cv2.resize(img,(192,192),interpolation=cv2.INTER_LINEAR)\n",
    "    img = cv2.normalize(img, None, 0, 1.0, cv2.NORM_MINMAX, dtype=cv2.CV_32F)\n",
    "    x_train.append(3)\n",
    "    y_train.append(img)\n",
    "    \n",
    "for file in os.listdir(\"D:\\\\Chest Canncer CT Dataset\\\\Data\\\\valid\\\\normal\"):\n",
    "    img = cv2.imread(\"D:\\\\Chest Canncer CT Dataset\\\\Data\\\\valid\\\\normal\\\\\"  + file)\n",
    "    img = cv2.resize(img,(192,192),interpolation=cv2.INTER_LINEAR)\n",
    "    img = cv2.normalize(img, None, 0, 1.0, cv2.NORM_MINMAX, dtype=cv2.CV_32F)\n",
    "    x_valid.append(0)\n",
    "    y_valid.append(img)\n",
    "\n",
    "for file in os.listdir(\"D:\\\\Chest Canncer CT Dataset\\\\Data\\\\valid\\\\adenocarcinoma_left.lower.lobe_T2_N0_M0_Ib\"):\n",
    "    img = cv2.imread(\"D:\\\\Chest Canncer CT Dataset\\\\Data\\\\valid\\\\adenocarcinoma_left.lower.lobe_T2_N0_M0_Ib\\\\\"  + file)\n",
    "    img = cv2.resize(img,(192,192),interpolation=cv2.INTER_LINEAR)\n",
    "    img = cv2.normalize(img, None, 0, 1.0, cv2.NORM_MINMAX, dtype=cv2.CV_32F)\n",
    "    x_valid.append(1)\n",
    "    y_valid.append(img)\n",
    "    \n",
    "for file in os.listdir(\"D:\\\\Chest Canncer CT Dataset\\\\Data\\\\valid\\\\large.cell.carcinoma_left.hilum_T2_N2_M0_IIIa\"):\n",
    "    img = cv2.imread(\"D:\\\\Chest Canncer CT Dataset\\\\Data\\\\valid\\\\large.cell.carcinoma_left.hilum_T2_N2_M0_IIIa\\\\\"  + file)\n",
    "    img = cv2.resize(img,(192,192),interpolation=cv2.INTER_LINEAR)\n",
    "    img = cv2.normalize(img, None, 0, 1.0, cv2.NORM_MINMAX, dtype=cv2.CV_32F)\n",
    "    x_valid.append(2)\n",
    "    y_valid.append(img)\n",
    "    \n",
    "for file in os.listdir(\"D:\\\\Chest Canncer CT Dataset\\\\Data\\\\valid\\\\squamous.cell.carcinoma_left.hilum_T1_N2_M0_IIIa\"):\n",
    "    img = cv2.imread(\"D:\\\\Chest Canncer CT Dataset\\\\Data\\\\valid\\\\squamous.cell.carcinoma_left.hilum_T1_N2_M0_IIIa\\\\\"  + file)\n",
    "    img = cv2.resize(img,(192,192),interpolation=cv2.INTER_LINEAR)\n",
    "    img = cv2.normalize(img, None, 0, 1.0, cv2.NORM_MINMAX, dtype=cv2.CV_32F)\n",
    "    x_valid.append(3)\n",
    "    y_valid.append(img)\n",
    "    "
   ]
  },
  {
   "cell_type": "code",
   "execution_count": 143,
   "metadata": {},
   "outputs": [],
   "source": [
    "for file in os.listdir(\"D:\\\\Chest Canncer CT Dataset\\\\Data\\\\test\\\\normal\"):\n",
    "    img = cv2.imread(\"D:\\\\Chest Canncer CT Dataset\\\\Data\\\\test\\\\normal\\\\\"  + file)\n",
    "    img = cv2.resize(img,(192,192),interpolation=cv2.INTER_LINEAR)\n",
    "    img = cv2.normalize(img, None, 0, 1.0, cv2.NORM_MINMAX, dtype=cv2.CV_32F)\n",
    "    x_test.append(0)\n",
    "    y_test.append(img)\n",
    "\n",
    "for file in os.listdir(\"D:\\\\Chest Canncer CT Dataset\\\\Data\\\\test\\\\adenocarcinoma\"):\n",
    "    img = cv2.imread(\"D:\\\\Chest Canncer CT Dataset\\\\Data\\\\test\\\\adenocarcinoma\\\\\"  + file)\n",
    "    img = cv2.resize(img,(192,192),interpolation=cv2.INTER_LINEAR)\n",
    "    img = cv2.normalize(img, None, 0, 1.0, cv2.NORM_MINMAX, dtype=cv2.CV_32F)\n",
    "    x_test.append(1)\n",
    "    y_test.append(img)\n",
    "    \n",
    "for file in os.listdir(\"D:\\\\Chest Canncer CT Dataset\\\\Data\\\\test\\\\large.cell.carcinoma\"):\n",
    "    img = cv2.imread(\"D:\\\\Chest Canncer CT Dataset\\\\Data\\\\test\\\\large.cell.carcinoma\\\\\"  + file)\n",
    "    img = cv2.resize(img,(192,192),interpolation=cv2.INTER_LINEAR)\n",
    "    img = cv2.normalize(img, None, 0, 1.0, cv2.NORM_MINMAX, dtype=cv2.CV_32F)\n",
    "    x_test.append(2)\n",
    "    y_test.append(img)\n",
    "    \n",
    "for file in os.listdir(\"D:\\\\Chest Canncer CT Dataset\\\\Data\\\\test\\\\squamous.cell.carcinoma\"):\n",
    "    img = cv2.imread(\"D:\\\\Chest Canncer CT Dataset\\\\Data\\\\test\\\\squamous.cell.carcinoma\\\\\"  + file)\n",
    "    img = cv2.resize(img,(192,192),interpolation=cv2.INTER_LINEAR)\n",
    "    img = cv2.normalize(img, None, 0, 1.0, cv2.NORM_MINMAX, dtype=cv2.CV_32F)\n",
    "    x_test.append(3)\n",
    "    y_test.append(img)"
   ]
  },
  {
   "cell_type": "code",
   "execution_count": 144,
   "metadata": {},
   "outputs": [],
   "source": [
    "\n",
    "def rotate_image(image, angle):\n",
    "  image_center = tuple(np.array(image.shape[1::-1]) / 2)\n",
    "  rot_mat = cv2.getRotationMatrix2D(image_center, angle, 1.0)\n",
    "  result = cv2.warpAffine(image, rot_mat, image.shape[1::-1], flags=cv2.INTER_LINEAR)\n",
    "  return result"
   ]
  },
  {
   "cell_type": "code",
   "execution_count": 145,
   "metadata": {},
   "outputs": [],
   "source": [
    "for i in range(len(y_train)):\n",
    "    y_train.append(rotate_image(y_train[i],random.randint(-10,10)))\n",
    "    x_train.append(x_train[i])\n",
    "    y_train.append(rotate_image(y_train[i],random.randint(-10,10)))\n",
    "    x_train.append(x_train[i])"
   ]
  },
  {
   "cell_type": "code",
   "execution_count": 146,
   "metadata": {},
   "outputs": [],
   "source": [
    "for i in range(len(y_valid)):\n",
    "    y_valid.append(rotate_image(y_valid[i],random.randint(-10,10)))\n",
    "    x_valid.append(x_valid[i])\n",
    "    y_valid.append(rotate_image(y_valid[i],random.randint(-10,10)))\n",
    "    x_valid.append(x_valid[i])"
   ]
  },
  {
   "cell_type": "code",
   "execution_count": 147,
   "metadata": {},
   "outputs": [],
   "source": [
    "for i in range(len(y_test)):\n",
    "    y_test.append(rotate_image(y_test[i],random.randint(-10,10)))\n",
    "    x_test.append(x_test[i])\n",
    "    y_test.append(rotate_image(y_test[i],random.randint(-10,10)))\n",
    "    x_test.append(x_test[i])"
   ]
  },
  {
   "cell_type": "code",
   "execution_count": 148,
   "metadata": {},
   "outputs": [
    {
     "name": "stdout",
     "output_type": "stream",
     "text": [
      "1848\n",
      "945\n",
      "207\n"
     ]
    }
   ],
   "source": [
    "print(len(y_train))\n",
    "print(len(y_test))\n",
    "print(len(y_valid))"
   ]
  },
  {
   "cell_type": "code",
   "execution_count": 149,
   "metadata": {},
   "outputs": [],
   "source": [
    "train_ds = tf.data.Dataset.from_tensor_slices((y_train,x_train))\n",
    "valid_ds = tf.data.Dataset.from_tensor_slices((y_valid,x_valid))\n",
    "test_ds = tf.data.Dataset.from_tensor_slices((y_test,x_test))"
   ]
  },
  {
   "cell_type": "code",
   "execution_count": 150,
   "metadata": {},
   "outputs": [],
   "source": [
    "train_ds = train_ds.shuffle(buffer_size=len(y_train))\n",
    "valid_ds = valid_ds.shuffle(buffer_size=len(y_valid))\n",
    "test_ds = test_ds.shuffle(buffer_size=len(y_test))"
   ]
  },
  {
   "cell_type": "code",
   "execution_count": 151,
   "metadata": {},
   "outputs": [],
   "source": [
    "train_ds = train_ds.batch(batch_size=32)\n",
    "valid_ds = test_ds.batch(batch_size=32)\n",
    "test_ds = test_ds.batch(batch_size=32)"
   ]
  },
  {
   "cell_type": "code",
   "execution_count": 152,
   "metadata": {},
   "outputs": [],
   "source": [
    "base_model = tf.keras.applications.resnet50.ResNet50(input_shape=(192,192,3),\n",
    "                                               include_top=False,\n",
    "                                               weights='imagenet')"
   ]
  },
  {
   "cell_type": "code",
   "execution_count": 153,
   "metadata": {},
   "outputs": [],
   "source": [
    "base_model.trainable = False"
   ]
  },
  {
   "cell_type": "code",
   "execution_count": 154,
   "metadata": {},
   "outputs": [],
   "source": [
    "model = tf.keras.Sequential()\n",
    "input = tf.keras.applications.resnet50.preprocess_input(tf.keras.Input(shape=(192,192,3)))\n",
    "model.add(base_model)\n",
    "model.add(tf.keras.layers.Flatten())\n",
    "model.add(tf.keras.layers.Dense(1024,activation=('relu'),input_dim=512))\n",
    "model.add(tf.keras.layers.Dense(512,activation=('relu'))) \n",
    "model.add(tf.keras.layers.Dropout(.2))\n",
    "model.add(tf.keras.layers.Dense(4))"
   ]
  },
  {
   "cell_type": "code",
   "execution_count": 155,
   "metadata": {},
   "outputs": [],
   "source": [
    "base_learning_rate = 0.001\n",
    "model.compile(optimizer=tf.keras.optimizers.SGD(learning_rate=base_learning_rate),\n",
    "              loss=tf.keras.losses.SparseCategoricalCrossentropy(from_logits=True),\n",
    "              metrics=['accuracy'])"
   ]
  },
  {
   "cell_type": "code",
   "execution_count": 156,
   "metadata": {},
   "outputs": [
    {
     "name": "stdout",
     "output_type": "stream",
     "text": [
      "30/30 [==============================] - 92s 3s/step - loss: 1.5481 - accuracy: 0.2857\n"
     ]
    }
   ],
   "source": [
    "loss0, accuracy0 = model.evaluate(valid_ds)"
   ]
  },
  {
   "cell_type": "code",
   "execution_count": 157,
   "metadata": {},
   "outputs": [
    {
     "name": "stdout",
     "output_type": "stream",
     "text": [
      "Epoch 1/10\n",
      "58/58 [==============================] - 278s 5s/step - loss: 1.3185 - accuracy: 0.4150 - val_loss: 1.0304 - val_accuracy: 0.5513\n",
      "Epoch 2/10\n",
      "58/58 [==============================] - 275s 5s/step - loss: 1.0485 - accuracy: 0.5087 - val_loss: 0.9990 - val_accuracy: 0.5270\n",
      "Epoch 3/10\n",
      "58/58 [==============================] - 299s 5s/step - loss: 1.0044 - accuracy: 0.5298 - val_loss: 1.1305 - val_accuracy: 0.4381\n",
      "Epoch 4/10\n",
      "58/58 [==============================] - 297s 5s/step - loss: 0.9980 - accuracy: 0.5287 - val_loss: 1.1402 - val_accuracy: 0.5471\n",
      "Epoch 5/10\n",
      "58/58 [==============================] - 321s 6s/step - loss: 0.9698 - accuracy: 0.5422 - val_loss: 0.9999 - val_accuracy: 0.5365\n",
      "Epoch 6/10\n",
      "58/58 [==============================] - 328s 6s/step - loss: 0.9536 - accuracy: 0.5649 - val_loss: 0.9278 - val_accuracy: 0.5577\n",
      "Epoch 7/10\n",
      "58/58 [==============================] - 369s 6s/step - loss: 0.9510 - accuracy: 0.5438 - val_loss: 0.9329 - val_accuracy: 0.5873\n",
      "Epoch 8/10\n",
      "58/58 [==============================] - 311s 5s/step - loss: 0.9416 - accuracy: 0.5698 - val_loss: 0.9317 - val_accuracy: 0.5598\n",
      "Epoch 9/10\n",
      "58/58 [==============================] - 309s 5s/step - loss: 0.9196 - accuracy: 0.5747 - val_loss: 0.9309 - val_accuracy: 0.5492\n",
      "Epoch 10/10\n",
      "58/58 [==============================] - 302s 5s/step - loss: 0.9259 - accuracy: 0.5552 - val_loss: 0.9687 - val_accuracy: 0.5460\n"
     ]
    }
   ],
   "source": [
    "history = model.fit(train_ds,\n",
    "                    epochs=10,\n",
    "                    validation_data=valid_ds)"
   ]
  },
  {
   "cell_type": "code",
   "execution_count": 158,
   "metadata": {},
   "outputs": [
    {
     "data": {
      "image/png": "[encoded data removed]",
      "text/plain": [
       "<Figure size 800x800 with 2 Axes>"
      ]
     },
     "metadata": {},
     "output_type": "display_data"
    }
   ],
   "source": [
    "acc = history.history['accuracy']\n",
    "val_acc = history.history['val_accuracy']\n",
    "\n",
    "loss = history.history['loss']\n",
    "val_loss = history.history['val_loss']\n",
    "\n",
    "plt.figure(figsize=(8, 8))\n",
    "plt.subplot(2, 1, 1)\n",
    "plt.plot(acc, label='Training Accuracy')\n",
    "plt.plot(val_acc, label='Validation Accuracy')\n",
    "plt.legend(loc='lower right')\n",
    "plt.ylabel('Accuracy')\n",
    "plt.ylim([min(plt.ylim()),1])\n",
    "plt.title('Training and Validation Accuracy')\n",
    "\n",
    "plt.subplot(2, 1, 2)\n",
    "plt.plot(loss, label='Training Loss')\n",
    "plt.plot(val_loss, label='Validation Loss')\n",
    "plt.legend(loc='upper right')\n",
    "plt.ylabel('Cross Entropy')\n",
    "plt.ylim([0,5])\n",
    "plt.title('Training and Validation Loss')\n",
    "plt.xlabel('epoch')\n",
    "plt.show()"
   ]
  },
  {
   "cell_type": "code",
   "execution_count": 159,
   "metadata": {},
   "outputs": [
    {
     "name": "stdout",
     "output_type": "stream",
     "text": [
      "30/30 [==============================] - 102s 3s/step - loss: 0.9687 - accuracy: 0.5460\n"
     ]
    }
   ],
   "source": [
    "loss1, accuracy1 = model.evaluate(test_ds)"
   ]
  }
 ],
 "metadata": {
  "kernelspec": {
   "display_name": "venv",
   "language": "python",
   "name": "python3"
  },
  "language_info": {
   "codemirror_mode": {
    "name": "ipython",
    "version": 3
   },
   "file_extension": ".py",
   "mimetype": "text/x-python",
   "name": "python",
   "nbconvert_exporter": "python",
   "pygments_lexer": "ipython3",
   "version": "3.10.8"
  },
  "orig_nbformat": 4
 },
 "nbformat": 4,
 "nbformat_minor": 2
}
